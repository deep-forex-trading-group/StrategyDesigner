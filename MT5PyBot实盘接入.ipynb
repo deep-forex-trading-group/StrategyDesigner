{
 "cells": [
  {
   "cell_type": "code",
   "execution_count": null,
   "id": "ef4005ad-7880-4b3f-877b-8b539aaaa1fa",
   "metadata": {},
   "outputs": [],
   "source": []
  }
 ],
 "metadata": {
  "kernelspec": {
   "display_name": "Python [conda env:vectorbt.pro]",
   "language": "python",
   "name": "conda-env-vectorbt.pro-py"
  },
  "language_info": {
   "codemirror_mode": {
    "name": "ipython",
    "version": 3
   },
   "file_extension": ".py",
   "mimetype": "text/x-python",
   "name": "python",
   "nbconvert_exporter": "python",
   "pygments_lexer": "ipython3",
   "version": "3.10.9"
  }
 },
 "nbformat": 4,
 "nbformat_minor": 5
}
