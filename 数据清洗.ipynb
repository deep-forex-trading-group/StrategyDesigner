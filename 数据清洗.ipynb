{
 "cells": [
  {
   "cell_type": "markdown",
   "id": "6d7c85ff-1dbf-4181-b200-b6d8c4e6b729",
   "metadata": {},
   "source": [
    "# 数据清洗"
   ]
  },
  {
   "cell_type": "code",
   "execution_count": 1,
   "id": "a42bf2dc-4fca-4bbd-a06f-5de087b76747",
   "metadata": {},
   "outputs": [],
   "source": [
    "%matplotlib inline\n",
    "%matplotlib notebook\n",
    "%load_ext autoreload\n",
    "%autoreload 2\n",
    "\n",
    "import vectorbtpro as vbt\n",
    "import numpy as np\n",
    "import pandas as pd\n",
    "\n",
    "from numba import njit\n",
    "import talib\n",
    "\n",
    "# 管道优化\n",
    "from vectorbtpro.returns import nb as ret_nb\n",
    "from vectorbtpro.portfolio import nb as pf_nb\n",
    "from vectorbtpro.portfolio.enums import Direction\n",
    "\n",
    "vbt.settings.set_theme('dark')"
   ]
  },
  {
   "cell_type": "code",
   "execution_count": 2,
   "id": "be2650ed-d44c-4552-968c-c60c55ff47b7",
   "metadata": {},
   "outputs": [
    {
     "name": "stdout",
     "output_type": "stream",
     "text": [
      "1.12.0\n"
     ]
    }
   ],
   "source": [
    "print(vbt.__version__)"
   ]
  },
  {
   "cell_type": "markdown",
   "id": "f09debfa-b913-4a61-a753-b55db480cf27",
   "metadata": {
    "tags": []
   },
   "source": [
    "# 读入数据"
   ]
  },
  {
   "cell_type": "code",
   "execution_count": 3,
   "id": "b8d2eb66-d2f8-4860-897e-b0710776d230",
   "metadata": {},
   "outputs": [
    {
     "data": {
      "text/plain": [
       "'./data/XAUUSD_H1_OHLCV_2020-01-01_2023-05-16.h5'"
      ]
     },
     "execution_count": 3,
     "metadata": {},
     "output_type": "execute_result"
    }
   ],
   "source": [
    "symbol = \"EURUSD\"\n",
    "time_frames = [\"M1\", \"M5\", \"H1\", \"H4\"]\n",
    "date_range = slice(\"2021-01-01\", \"2023-02-20\")\n",
    "from_path = \"./data\"\n",
    "tf_strs = \"_\".join(time_frames)\n",
    "hdf_fname = f\"{from_path}/{symbol}_{tf_strs}_OHLCV_{date_range.start}_{date_range.stop}.h5\"\n",
    "hdf_fname\n",
    "\n",
    "# symbol = \"XAUUSD\"\n",
    "# time_frames = [\"H1\"]\n",
    "# date_range = slice(\"2020-01-01\", \"2023-05-16\")\n",
    "# tf_strs = \"_\".join(time_frames)\n",
    "# from_path = \"./data\"\n",
    "# hdf_fname = f\"{from_path}/{symbol}_{tf_strs}_OHLCV_{date_range.start}_{date_range.stop}.h5\"\n",
    "# hdf_fname"
   ]
  },
  {
   "cell_type": "code",
   "execution_count": 4,
   "id": "5b534c5e-44ac-4bb4-8a87-8eec1891a5e6",
   "metadata": {},
   "outputs": [
    {
     "data": {
      "text/plain": [
       "DatetimeIndex(['2020-01-02 01:00:00+00:00', '2020-01-02 02:00:00+00:00',\n",
       "               '2020-01-02 03:00:00+00:00', '2020-01-02 04:00:00+00:00',\n",
       "               '2020-01-02 05:00:00+00:00', '2020-01-02 06:00:00+00:00',\n",
       "               '2020-01-02 07:00:00+00:00', '2020-01-02 08:00:00+00:00',\n",
       "               '2020-01-02 09:00:00+00:00', '2020-01-02 10:00:00+00:00',\n",
       "               ...\n",
       "               '2023-05-16 09:00:00+00:00', '2023-05-16 10:00:00+00:00',\n",
       "               '2023-05-16 11:00:00+00:00', '2023-05-16 12:00:00+00:00',\n",
       "               '2023-05-16 13:00:00+00:00', '2023-05-16 14:00:00+00:00',\n",
       "               '2023-05-16 15:00:00+00:00', '2023-05-16 16:00:00+00:00',\n",
       "               '2023-05-16 17:00:00+00:00', '2023-05-16 18:00:00+00:00'],\n",
       "              dtype='datetime64[ns, UTC]', name='time', length=19924, freq=None)"
      ]
     },
     "execution_count": 4,
     "metadata": {},
     "output_type": "execute_result"
    }
   ],
   "source": [
    "## Load m1 data\n",
    "data = vbt.HDFData.fetch(hdf_fname)\n",
    "data.wrapper.index #pandas doaesn't recognise the frequency because of missing timestamps"
   ]
  },
  {
   "cell_type": "code",
   "execution_count": 5,
   "id": "27c00131-8693-402f-acdf-a745d689f0b7",
   "metadata": {},
   "outputs": [
    {
     "data": {
      "text/plain": [
       "Index(['Open', 'High', 'Low', 'Close', 'Volume'], dtype='object')"
      ]
     },
     "execution_count": 5,
     "metadata": {},
     "output_type": "execute_result"
    }
   ],
   "source": [
    "data.wrapper.columns"
   ]
  },
  {
   "cell_type": "code",
   "execution_count": 6,
   "id": "182733c5-2776-466b-abdf-306aa6013e26",
   "metadata": {},
   "outputs": [
    {
     "data": {
      "text/html": [
       "<div>\n",
       "<style scoped>\n",
       "    .dataframe tbody tr th:only-of-type {\n",
       "        vertical-align: middle;\n",
       "    }\n",
       "\n",
       "    .dataframe tbody tr th {\n",
       "        vertical-align: top;\n",
       "    }\n",
       "\n",
       "    .dataframe thead th {\n",
       "        text-align: right;\n",
       "    }\n",
       "</style>\n",
       "<table border=\"1\" class=\"dataframe\">\n",
       "  <thead>\n",
       "    <tr style=\"text-align: right;\">\n",
       "      <th></th>\n",
       "      <th>Open</th>\n",
       "      <th>High</th>\n",
       "      <th>Low</th>\n",
       "      <th>Close</th>\n",
       "      <th>Volume</th>\n",
       "    </tr>\n",
       "    <tr>\n",
       "      <th>time</th>\n",
       "      <th></th>\n",
       "      <th></th>\n",
       "      <th></th>\n",
       "      <th></th>\n",
       "      <th></th>\n",
       "    </tr>\n",
       "  </thead>\n",
       "  <tbody>\n",
       "    <tr>\n",
       "      <th>2020-01-02 01:00:00+00:00</th>\n",
       "      <td>1517.97</td>\n",
       "      <td>1521.37</td>\n",
       "      <td>1517.95</td>\n",
       "      <td>1518.41</td>\n",
       "      <td>3598</td>\n",
       "    </tr>\n",
       "    <tr>\n",
       "      <th>2020-01-02 02:00:00+00:00</th>\n",
       "      <td>1518.45</td>\n",
       "      <td>1519.37</td>\n",
       "      <td>1518.14</td>\n",
       "      <td>1518.69</td>\n",
       "      <td>2403</td>\n",
       "    </tr>\n",
       "    <tr>\n",
       "      <th>2020-01-02 03:00:00+00:00</th>\n",
       "      <td>1518.69</td>\n",
       "      <td>1520.91</td>\n",
       "      <td>1517.23</td>\n",
       "      <td>1519.44</td>\n",
       "      <td>6110</td>\n",
       "    </tr>\n",
       "    <tr>\n",
       "      <th>2020-01-02 04:00:00+00:00</th>\n",
       "      <td>1519.44</td>\n",
       "      <td>1520.95</td>\n",
       "      <td>1518.44</td>\n",
       "      <td>1520.63</td>\n",
       "      <td>3475</td>\n",
       "    </tr>\n",
       "    <tr>\n",
       "      <th>2020-01-02 05:00:00+00:00</th>\n",
       "      <td>1520.63</td>\n",
       "      <td>1521.21</td>\n",
       "      <td>1519.86</td>\n",
       "      <td>1520.37</td>\n",
       "      <td>1345</td>\n",
       "    </tr>\n",
       "    <tr>\n",
       "      <th>...</th>\n",
       "      <td>...</td>\n",
       "      <td>...</td>\n",
       "      <td>...</td>\n",
       "      <td>...</td>\n",
       "      <td>...</td>\n",
       "    </tr>\n",
       "    <tr>\n",
       "      <th>2023-05-16 14:00:00+00:00</th>\n",
       "      <td>2008.21</td>\n",
       "      <td>2009.32</td>\n",
       "      <td>2005.15</td>\n",
       "      <td>2005.51</td>\n",
       "      <td>4706</td>\n",
       "    </tr>\n",
       "    <tr>\n",
       "      <th>2023-05-16 15:00:00+00:00</th>\n",
       "      <td>2005.51</td>\n",
       "      <td>2014.86</td>\n",
       "      <td>2001.18</td>\n",
       "      <td>2011.99</td>\n",
       "      <td>11212</td>\n",
       "    </tr>\n",
       "    <tr>\n",
       "      <th>2023-05-16 16:00:00+00:00</th>\n",
       "      <td>2011.98</td>\n",
       "      <td>2012.34</td>\n",
       "      <td>2007.07</td>\n",
       "      <td>2007.59</td>\n",
       "      <td>12721</td>\n",
       "    </tr>\n",
       "    <tr>\n",
       "      <th>2023-05-16 17:00:00+00:00</th>\n",
       "      <td>2007.62</td>\n",
       "      <td>2008.40</td>\n",
       "      <td>2001.94</td>\n",
       "      <td>2003.25</td>\n",
       "      <td>11419</td>\n",
       "    </tr>\n",
       "    <tr>\n",
       "      <th>2023-05-16 18:00:00+00:00</th>\n",
       "      <td>2003.25</td>\n",
       "      <td>2003.69</td>\n",
       "      <td>1998.08</td>\n",
       "      <td>2001.67</td>\n",
       "      <td>5337</td>\n",
       "    </tr>\n",
       "  </tbody>\n",
       "</table>\n",
       "<p>19924 rows × 5 columns</p>\n",
       "</div>"
      ],
      "text/plain": [
       "                              Open     High      Low    Close  Volume\n",
       "time                                                                 \n",
       "2020-01-02 01:00:00+00:00  1517.97  1521.37  1517.95  1518.41    3598\n",
       "2020-01-02 02:00:00+00:00  1518.45  1519.37  1518.14  1518.69    2403\n",
       "2020-01-02 03:00:00+00:00  1518.69  1520.91  1517.23  1519.44    6110\n",
       "2020-01-02 04:00:00+00:00  1519.44  1520.95  1518.44  1520.63    3475\n",
       "2020-01-02 05:00:00+00:00  1520.63  1521.21  1519.86  1520.37    1345\n",
       "...                            ...      ...      ...      ...     ...\n",
       "2023-05-16 14:00:00+00:00  2008.21  2009.32  2005.15  2005.51    4706\n",
       "2023-05-16 15:00:00+00:00  2005.51  2014.86  2001.18  2011.99   11212\n",
       "2023-05-16 16:00:00+00:00  2011.98  2012.34  2007.07  2007.59   12721\n",
       "2023-05-16 17:00:00+00:00  2007.62  2008.40  2001.94  2003.25   11419\n",
       "2023-05-16 18:00:00+00:00  2003.25  2003.69  1998.08  2001.67    5337\n",
       "\n",
       "[19924 rows x 5 columns]"
      ]
     },
     "execution_count": 6,
     "metadata": {},
     "output_type": "execute_result"
    }
   ],
   "source": [
    "data.get()"
   ]
  },
  {
   "cell_type": "code",
   "execution_count": 24,
   "id": "95f913c8-9ff9-498d-9a04-0004ad9a2888",
   "metadata": {},
   "outputs": [
    {
     "ename": "KeyError",
     "evalue": "'EURUSD_M1'",
     "output_type": "error",
     "traceback": [
      "\u001b[0;31m---------------------------------------------------------------------------\u001b[0m",
      "\u001b[0;31mKeyError\u001b[0m                                  Traceback (most recent call last)",
      "Cell \u001b[0;32mIn[24], line 1\u001b[0m\n\u001b[0;32m----> 1\u001b[0m data_m1, data_m5, data_h1, data_h4 \u001b[38;5;241m=\u001b[39m \u001b[43mdata\u001b[49m\u001b[38;5;241;43m.\u001b[39;49m\u001b[43mget\u001b[49m\u001b[43m(\u001b[49m\u001b[43msymbols\u001b[49m\u001b[38;5;241;43m=\u001b[39;49m\u001b[38;5;124;43m\"\u001b[39;49m\u001b[38;5;124;43mEURUSD_M1\u001b[39;49m\u001b[38;5;124;43m\"\u001b[39;49m\u001b[43m)\u001b[49m, data\u001b[38;5;241m.\u001b[39mget(symbols\u001b[38;5;241m=\u001b[39m\u001b[38;5;124m\"\u001b[39m\u001b[38;5;124mEURUSD_M5\u001b[39m\u001b[38;5;124m\"\u001b[39m), \\\n\u001b[1;32m      2\u001b[0m                                      data\u001b[38;5;241m.\u001b[39mget(symbols\u001b[38;5;241m=\u001b[39m\u001b[38;5;124m\"\u001b[39m\u001b[38;5;124mEURUSD_H1\u001b[39m\u001b[38;5;124m\"\u001b[39m), data\u001b[38;5;241m.\u001b[39mget(symbols\u001b[38;5;241m=\u001b[39m\u001b[38;5;124m\"\u001b[39m\u001b[38;5;124mEURUSD_H4\u001b[39m\u001b[38;5;124m\"\u001b[39m)\n\u001b[1;32m      3\u001b[0m data_m1 \u001b[38;5;241m=\u001b[39m data\u001b[38;5;241m.\u001b[39mget(symbols\u001b[38;5;241m=\u001b[39m\u001b[38;5;124m\"\u001b[39m\u001b[38;5;124mEURUSD_M1\u001b[39m\u001b[38;5;124m\"\u001b[39m)\n",
      "File \u001b[0;32m/opt/conda/envs/vectorbt.pro/lib/python3.10/site-packages/vectorbtpro/data/base.py:1352\u001b[0m, in \u001b[0;36mData.get\u001b[0;34m(self, columns, symbols, **kwargs)\u001b[0m\n\u001b[1;32m   1350\u001b[0m \u001b[38;5;28;01mif\u001b[39;00m single_symbol:\n\u001b[1;32m   1351\u001b[0m     \u001b[38;5;28;01mif\u001b[39;00m columns \u001b[38;5;129;01mis\u001b[39;00m \u001b[38;5;28;01mNone\u001b[39;00m:\n\u001b[0;32m-> 1352\u001b[0m         \u001b[38;5;28;01mreturn\u001b[39;00m \u001b[38;5;28;43mself\u001b[39;49m\u001b[38;5;241;43m.\u001b[39;49m\u001b[43mdata\u001b[49m\u001b[43m[\u001b[49m\u001b[43msymbols\u001b[49m\u001b[43m[\u001b[49m\u001b[38;5;241;43m0\u001b[39;49m\u001b[43m]\u001b[49m\u001b[43m]\u001b[49m\n\u001b[1;32m   1353\u001b[0m     \u001b[38;5;28;01mreturn\u001b[39;00m \u001b[38;5;28mself\u001b[39m\u001b[38;5;241m.\u001b[39mdata[symbols[\u001b[38;5;241m0\u001b[39m]][columns]\n\u001b[1;32m   1355\u001b[0m concat_data \u001b[38;5;241m=\u001b[39m \u001b[38;5;28mself\u001b[39m\u001b[38;5;241m.\u001b[39mconcat(symbols\u001b[38;5;241m=\u001b[39msymbols, \u001b[38;5;241m*\u001b[39m\u001b[38;5;241m*\u001b[39mkwargs)\n",
      "\u001b[0;31mKeyError\u001b[0m: 'EURUSD_M1'"
     ]
    }
   ],
   "source": [
    "data_m1, data_m5, data_h1, data_h4 = data.get(symbols=\"EURUSD_M1\"), data.get(symbols=\"EURUSD_M5\"), \\\n",
    "                                     data.get(symbols=\"EURUSD_H1\"), data.get(symbols=\"EURUSD_H4\")\n",
    "data_m1 = data.get(symbols=\"EURUSD_M1\")"
   ]
  },
  {
   "cell_type": "code",
   "execution_count": 12,
   "id": "73cb5573-a791-433d-899b-78d742e87828",
   "metadata": {},
   "outputs": [
    {
     "data": {
      "text/plain": [
       "DatetimeIndex(['2020-01-02 01:00:00+00:00', '2020-01-02 02:00:00+00:00',\n",
       "               '2020-01-02 03:00:00+00:00', '2020-01-02 04:00:00+00:00',\n",
       "               '2020-01-02 05:00:00+00:00', '2020-01-02 06:00:00+00:00',\n",
       "               '2020-01-02 07:00:00+00:00', '2020-01-02 08:00:00+00:00',\n",
       "               '2020-01-02 09:00:00+00:00', '2020-01-02 10:00:00+00:00',\n",
       "               ...\n",
       "               '2023-05-16 09:00:00+00:00', '2023-05-16 10:00:00+00:00',\n",
       "               '2023-05-16 11:00:00+00:00', '2023-05-16 12:00:00+00:00',\n",
       "               '2023-05-16 13:00:00+00:00', '2023-05-16 14:00:00+00:00',\n",
       "               '2023-05-16 15:00:00+00:00', '2023-05-16 16:00:00+00:00',\n",
       "               '2023-05-16 17:00:00+00:00', '2023-05-16 18:00:00+00:00'],\n",
       "              dtype='datetime64[ns, UTC]', name='time', length=19924, freq=None)"
      ]
     },
     "execution_count": 12,
     "metadata": {},
     "output_type": "execute_result"
    }
   ],
   "source": [
    "data_h1.index"
   ]
  },
  {
   "cell_type": "markdown",
   "id": "5be148d4-2d61-436d-9bee-99dddd48d4ab",
   "metadata": {},
   "source": [
    "# 数据清洗\n",
    "* 数据不连续校验\n",
    "* 空值问题\n",
    "* 数据明显错误校验\n",
    "    * high >= (open, close) >= low\n",
    "* 多周期匹配 (resampling问题)\n",
    "* dukascopy 数据源 与 tickmill 原生数据源不匹配问题"
   ]
  },
  {
   "cell_type": "markdown",
   "id": "a0a76847-4faf-40f0-9d3b-f413b2966a08",
   "metadata": {},
   "source": [
    "## 数据不连续校验"
   ]
  },
  {
   "cell_type": "code",
   "execution_count": null,
   "id": "8e326b4e-7b4b-43c2-b658-ad0ef2e69e5f",
   "metadata": {},
   "outputs": [],
   "source": []
  },
  {
   "cell_type": "code",
   "execution_count": null,
   "id": "d6327bfc-2499-48d9-9e11-e026b58bf78f",
   "metadata": {},
   "outputs": [],
   "source": []
  },
  {
   "cell_type": "code",
   "execution_count": null,
   "id": "96401921-2c57-4ff0-9025-860d7283725e",
   "metadata": {},
   "outputs": [],
   "source": []
  },
  {
   "cell_type": "markdown",
   "id": "892dc336-8ec6-4d69-bcc9-4c91f821af05",
   "metadata": {},
   "source": [
    "## 空值问题"
   ]
  },
  {
   "cell_type": "markdown",
   "id": "9e683c4e-b748-4d1d-8f2c-f2efb84792ed",
   "metadata": {},
   "source": [
    "### 各周期空值显示"
   ]
  },
  {
   "cell_type": "code",
   "execution_count": 13,
   "id": "9c727ddb-3360-4931-82df-a69148aee072",
   "metadata": {},
   "outputs": [
    {
     "ename": "NameError",
     "evalue": "name 'data_m1' is not defined",
     "output_type": "error",
     "traceback": [
      "\u001b[0;31m---------------------------------------------------------------------------\u001b[0m",
      "\u001b[0;31mNameError\u001b[0m                                 Traceback (most recent call last)",
      "Cell \u001b[0;32mIn[13], line 1\u001b[0m\n\u001b[0;32m----> 1\u001b[0m \u001b[38;5;124m\"\u001b[39m\u001b[38;5;124mm1数据空值:\u001b[39m\u001b[38;5;124m\"\u001b[39m, \u001b[43mdata_m1\u001b[49m\u001b[38;5;241m.\u001b[39misna()\u001b[38;5;241m.\u001b[39many(axis\u001b[38;5;241m=\u001b[39m\u001b[38;5;241m1\u001b[39m)\u001b[38;5;241m.\u001b[39msum(), data_m1\u001b[38;5;241m.\u001b[39msize, data_m1\u001b[38;5;241m.\u001b[39mindex\u001b[38;5;241m.\u001b[39mmin(), data_m1\u001b[38;5;241m.\u001b[39mindex\u001b[38;5;241m.\u001b[39mmax()\n",
      "\u001b[0;31mNameError\u001b[0m: name 'data_m1' is not defined"
     ]
    }
   ],
   "source": [
    "\"m1数据空值:\", data_m1.isna().any(axis=1).sum(), data_m1.size, data_m1.index.min(), data_m1.index.max()"
   ]
  },
  {
   "cell_type": "code",
   "execution_count": 14,
   "id": "36e014f9-b7a1-4a14-bdee-d83b8b3cbb4f",
   "metadata": {},
   "outputs": [
    {
     "ename": "NameError",
     "evalue": "name 'data_m5' is not defined",
     "output_type": "error",
     "traceback": [
      "\u001b[0;31m---------------------------------------------------------------------------\u001b[0m",
      "\u001b[0;31mNameError\u001b[0m                                 Traceback (most recent call last)",
      "Cell \u001b[0;32mIn[14], line 1\u001b[0m\n\u001b[0;32m----> 1\u001b[0m \u001b[38;5;124m\"\u001b[39m\u001b[38;5;124mm5数据空值:\u001b[39m\u001b[38;5;124m\"\u001b[39m, \u001b[43mdata_m5\u001b[49m\u001b[38;5;241m.\u001b[39misna()\u001b[38;5;241m.\u001b[39many(axis\u001b[38;5;241m=\u001b[39m\u001b[38;5;241m1\u001b[39m)\u001b[38;5;241m.\u001b[39msum(), data_m5\u001b[38;5;241m.\u001b[39msize, data_m1\u001b[38;5;241m.\u001b[39mindex\u001b[38;5;241m.\u001b[39mmin(), data_m1\u001b[38;5;241m.\u001b[39mindex\u001b[38;5;241m.\u001b[39mmax()\n",
      "\u001b[0;31mNameError\u001b[0m: name 'data_m5' is not defined"
     ]
    }
   ],
   "source": [
    "\"m5数据空值:\", data_m5.isna().any(axis=1).sum(), data_m5.size, data_m1.index.min(), data_m1.index.max()"
   ]
  },
  {
   "cell_type": "code",
   "execution_count": 15,
   "id": "03822509-0d28-4e1d-abad-dc1cbccbaf87",
   "metadata": {},
   "outputs": [
    {
     "ename": "NameError",
     "evalue": "name 'data_m1' is not defined",
     "output_type": "error",
     "traceback": [
      "\u001b[0;31m---------------------------------------------------------------------------\u001b[0m",
      "\u001b[0;31mNameError\u001b[0m                                 Traceback (most recent call last)",
      "Cell \u001b[0;32mIn[15], line 1\u001b[0m\n\u001b[0;32m----> 1\u001b[0m \u001b[38;5;124m\"\u001b[39m\u001b[38;5;124mH1数据空值:\u001b[39m\u001b[38;5;124m\"\u001b[39m, data_h1\u001b[38;5;241m.\u001b[39misna()\u001b[38;5;241m.\u001b[39many(axis\u001b[38;5;241m=\u001b[39m\u001b[38;5;241m1\u001b[39m)\u001b[38;5;241m.\u001b[39msum(), data_h1\u001b[38;5;241m.\u001b[39msize, \u001b[43mdata_m1\u001b[49m\u001b[38;5;241m.\u001b[39mindex\u001b[38;5;241m.\u001b[39mmin(), data_m1\u001b[38;5;241m.\u001b[39mindex\u001b[38;5;241m.\u001b[39mmax()\n",
      "\u001b[0;31mNameError\u001b[0m: name 'data_m1' is not defined"
     ]
    }
   ],
   "source": [
    "\"H1数据空值:\", data_h1.isna().any(axis=1).sum(), data_h1.size, data_m1.index.min(), data_m1.index.max()"
   ]
  },
  {
   "cell_type": "code",
   "execution_count": 16,
   "id": "e009da83-00c0-4200-a943-ef7780cd8777",
   "metadata": {},
   "outputs": [
    {
     "ename": "NameError",
     "evalue": "name 'data_h4' is not defined",
     "output_type": "error",
     "traceback": [
      "\u001b[0;31m---------------------------------------------------------------------------\u001b[0m",
      "\u001b[0;31mNameError\u001b[0m                                 Traceback (most recent call last)",
      "Cell \u001b[0;32mIn[16], line 1\u001b[0m\n\u001b[0;32m----> 1\u001b[0m \u001b[38;5;124m\"\u001b[39m\u001b[38;5;124mH4数据空值:\u001b[39m\u001b[38;5;124m\"\u001b[39m, \u001b[43mdata_h4\u001b[49m\u001b[38;5;241m.\u001b[39misna()\u001b[38;5;241m.\u001b[39many(axis\u001b[38;5;241m=\u001b[39m\u001b[38;5;241m1\u001b[39m)\u001b[38;5;241m.\u001b[39msum(), data_h4\u001b[38;5;241m.\u001b[39msize, data_m1\u001b[38;5;241m.\u001b[39mindex\u001b[38;5;241m.\u001b[39mmin(), data_m1\u001b[38;5;241m.\u001b[39mindex\u001b[38;5;241m.\u001b[39mmax()\n",
      "\u001b[0;31mNameError\u001b[0m: name 'data_h4' is not defined"
     ]
    }
   ],
   "source": [
    "\"H4数据空值:\", data_h4.isna().any(axis=1).sum(), data_h4.size, data_m1.index.min(), data_m1.index.max()"
   ]
  },
  {
   "cell_type": "code",
   "execution_count": 17,
   "id": "04de162f-a24e-4304-b6cc-d1603f6470a5",
   "metadata": {},
   "outputs": [
    {
     "ename": "NameError",
     "evalue": "name 'data_m1' is not defined",
     "output_type": "error",
     "traceback": [
      "\u001b[0;31m---------------------------------------------------------------------------\u001b[0m",
      "\u001b[0;31mNameError\u001b[0m                                 Traceback (most recent call last)",
      "Cell \u001b[0;32mIn[17], line 1\u001b[0m\n\u001b[0;32m----> 1\u001b[0m \u001b[43mdata_m1\u001b[49m\n",
      "\u001b[0;31mNameError\u001b[0m: name 'data_m1' is not defined"
     ]
    }
   ],
   "source": [
    "data_m1"
   ]
  },
  {
   "cell_type": "markdown",
   "id": "5aa46476-2399-4226-94e4-a33721347e5f",
   "metadata": {},
   "source": [
    "### 空值问题处理"
   ]
  },
  {
   "cell_type": "code",
   "execution_count": 18,
   "id": "a4e9c43f-88a8-4801-9187-b48a60862a2e",
   "metadata": {},
   "outputs": [
    {
     "ename": "NameError",
     "evalue": "name 'data_m1' is not defined",
     "output_type": "error",
     "traceback": [
      "\u001b[0;31m---------------------------------------------------------------------------\u001b[0m",
      "\u001b[0;31mNameError\u001b[0m                                 Traceback (most recent call last)",
      "Cell \u001b[0;32mIn[18], line 1\u001b[0m\n\u001b[0;32m----> 1\u001b[0m \u001b[43mdata_m1\u001b[49m[data_m1\u001b[38;5;241m.\u001b[39misna()\u001b[38;5;241m.\u001b[39many(axis\u001b[38;5;241m=\u001b[39m\u001b[38;5;241m1\u001b[39m)]\u001b[38;5;241m.\u001b[39mindex\n",
      "\u001b[0;31mNameError\u001b[0m: name 'data_m1' is not defined"
     ]
    }
   ],
   "source": [
    "data_m1[data_m1.isna().any(axis=1)].index"
   ]
  },
  {
   "cell_type": "code",
   "execution_count": 19,
   "id": "4e472b26-203d-4749-83a0-71e3f22c0a97",
   "metadata": {},
   "outputs": [
    {
     "ename": "NameError",
     "evalue": "name 'data_m1' is not defined",
     "output_type": "error",
     "traceback": [
      "\u001b[0;31m---------------------------------------------------------------------------\u001b[0m",
      "\u001b[0;31mNameError\u001b[0m                                 Traceback (most recent call last)",
      "Cell \u001b[0;32mIn[19], line 3\u001b[0m\n\u001b[1;32m      1\u001b[0m \u001b[38;5;124m\"\u001b[39m\u001b[38;5;124m1m数据空值检查\u001b[39m\u001b[38;5;124m\"\u001b[39m\n\u001b[1;32m      2\u001b[0m \u001b[38;5;28;01mfrom\u001b[39;00m \u001b[38;5;21;01mclean_data_utils\u001b[39;00m \u001b[38;5;28;01mimport\u001b[39;00m check_nan_index\n\u001b[0;32m----> 3\u001b[0m check_nan_index(\u001b[43mdata_m1\u001b[49m[data_m1\u001b[38;5;241m.\u001b[39misna()\u001b[38;5;241m.\u001b[39many(axis\u001b[38;5;241m=\u001b[39m\u001b[38;5;241m1\u001b[39m)]\u001b[38;5;241m.\u001b[39mindex, freq\u001b[38;5;241m=\u001b[39m\u001b[38;5;124m\"\u001b[39m\u001b[38;5;124m1T\u001b[39m\u001b[38;5;124m\"\u001b[39m)\n",
      "\u001b[0;31mNameError\u001b[0m: name 'data_m1' is not defined"
     ]
    }
   ],
   "source": [
    "\"1m数据空值检查\"\n",
    "from clean_data_utils import check_nan_index\n",
    "check_nan_index(data_m1[data_m1.isna().any(axis=1)].index, freq=\"1T\")"
   ]
  },
  {
   "cell_type": "code",
   "execution_count": 20,
   "id": "5abb9adf-fda7-4e57-8e99-330e846024e9",
   "metadata": {
    "tags": []
   },
   "outputs": [],
   "source": [
    "# data_m1.loc[\"2023-02-14 01:54:30+00:00\"]"
   ]
  },
  {
   "cell_type": "code",
   "execution_count": 21,
   "id": "066826c8-b93b-44da-9737-06985e016865",
   "metadata": {},
   "outputs": [
    {
     "ename": "NameError",
     "evalue": "name 'data_m1' is not defined",
     "output_type": "error",
     "traceback": [
      "\u001b[0;31m---------------------------------------------------------------------------\u001b[0m",
      "\u001b[0;31mNameError\u001b[0m                                 Traceback (most recent call last)",
      "Cell \u001b[0;32mIn[21], line 2\u001b[0m\n\u001b[1;32m      1\u001b[0m \u001b[38;5;124m\"\u001b[39m\u001b[38;5;124m1m数据空值处理\u001b[39m\u001b[38;5;124m\"\u001b[39m\n\u001b[0;32m----> 2\u001b[0m data_m1 \u001b[38;5;241m=\u001b[39m \u001b[43mdata_m1\u001b[49m\u001b[38;5;241m.\u001b[39mdropna()\n\u001b[1;32m      3\u001b[0m data_m1[data_m1\u001b[38;5;241m.\u001b[39misna()\u001b[38;5;241m.\u001b[39many(axis\u001b[38;5;241m=\u001b[39m\u001b[38;5;241m1\u001b[39m)]\n",
      "\u001b[0;31mNameError\u001b[0m: name 'data_m1' is not defined"
     ]
    }
   ],
   "source": [
    "\"1m数据空值处理\"\n",
    "data_m1 = data_m1.dropna()\n",
    "data_m1[data_m1.isna().any(axis=1)]"
   ]
  },
  {
   "cell_type": "code",
   "execution_count": 22,
   "id": "cccead47-9a77-43ed-8f8f-d468e58a4e53",
   "metadata": {},
   "outputs": [
    {
     "ename": "NameError",
     "evalue": "name 'data_m5' is not defined",
     "output_type": "error",
     "traceback": [
      "\u001b[0;31m---------------------------------------------------------------------------\u001b[0m",
      "\u001b[0;31mNameError\u001b[0m                                 Traceback (most recent call last)",
      "Cell \u001b[0;32mIn[22], line 3\u001b[0m\n\u001b[1;32m      1\u001b[0m \u001b[38;5;124m\"\u001b[39m\u001b[38;5;124m5m数据空值检查\u001b[39m\u001b[38;5;124m\"\u001b[39m\n\u001b[1;32m      2\u001b[0m \u001b[38;5;28;01mfrom\u001b[39;00m \u001b[38;5;21;01mclean_data_utils\u001b[39;00m \u001b[38;5;28;01mimport\u001b[39;00m check_nan_index\n\u001b[0;32m----> 3\u001b[0m check_nan_index(\u001b[43mdata_m5\u001b[49m[data_m5\u001b[38;5;241m.\u001b[39misna()\u001b[38;5;241m.\u001b[39many(axis\u001b[38;5;241m=\u001b[39m\u001b[38;5;241m1\u001b[39m)]\u001b[38;5;241m.\u001b[39mindex, freq\u001b[38;5;241m=\u001b[39m\u001b[38;5;124m\"\u001b[39m\u001b[38;5;124m1T\u001b[39m\u001b[38;5;124m\"\u001b[39m)\n",
      "\u001b[0;31mNameError\u001b[0m: name 'data_m5' is not defined"
     ]
    }
   ],
   "source": [
    "\"5m数据空值检查\"\n",
    "from clean_data_utils import check_nan_index\n",
    "check_nan_index(data_m5[data_m5.isna().any(axis=1)].index, freq=\"1T\")"
   ]
  },
  {
   "cell_type": "code",
   "execution_count": 23,
   "id": "6b8b7928-97c9-495d-be10-71fd2da949b8",
   "metadata": {},
   "outputs": [
    {
     "ename": "NameError",
     "evalue": "name 'data_m5' is not defined",
     "output_type": "error",
     "traceback": [
      "\u001b[0;31m---------------------------------------------------------------------------\u001b[0m",
      "\u001b[0;31mNameError\u001b[0m                                 Traceback (most recent call last)",
      "Cell \u001b[0;32mIn[23], line 3\u001b[0m\n\u001b[1;32m      1\u001b[0m \u001b[38;5;124m\"\u001b[39m\u001b[38;5;124m5m数据空值处理\u001b[39m\u001b[38;5;124m\"\u001b[39m\n\u001b[0;32m----> 3\u001b[0m data_m5 \u001b[38;5;241m=\u001b[39m \u001b[43mdata_m5\u001b[49m\u001b[38;5;241m.\u001b[39mdropna()\n\u001b[1;32m      4\u001b[0m data_m5[data_m5\u001b[38;5;241m.\u001b[39misna()\u001b[38;5;241m.\u001b[39many(axis\u001b[38;5;241m=\u001b[39m\u001b[38;5;241m1\u001b[39m)]\n",
      "\u001b[0;31mNameError\u001b[0m: name 'data_m5' is not defined"
     ]
    }
   ],
   "source": [
    "\"5m数据空值处理\"\n",
    "\n",
    "data_m5 = data_m5.dropna()\n",
    "data_m5[data_m5.isna().any(axis=1)]"
   ]
  },
  {
   "cell_type": "code",
   "execution_count": null,
   "id": "9685fc92-cdfb-4e3d-9875-dc05e7826bcd",
   "metadata": {},
   "outputs": [],
   "source": [
    "\"1H数据空值检查\"\n",
    "from clean_data_utils import check_nan_index\n",
    "check_nan_index(data_h1[data_h1.isna().any(axis=1)].index, freq=\"1T\")"
   ]
  },
  {
   "cell_type": "code",
   "execution_count": null,
   "id": "da97f230-5ee2-4803-a91a-7ec25e58d438",
   "metadata": {},
   "outputs": [],
   "source": [
    "\"1H数据空值处理\"\n",
    "data_h1 = data_h1.dropna()\n",
    "data_h1[data_h1.isna().any(axis=1)]"
   ]
  },
  {
   "cell_type": "code",
   "execution_count": null,
   "id": "89831159-6357-4cd5-8a2c-1924c6466c32",
   "metadata": {},
   "outputs": [],
   "source": [
    "\"4H数据空值检查\"\n",
    "from clean_data_utils import check_nan_index\n",
    "check_nan_index(data_h4[data_h4.isna().any(axis=1)].index, freq=\"1T\")"
   ]
  },
  {
   "cell_type": "code",
   "execution_count": null,
   "id": "4f5c64fd-6953-4609-a8d4-ca05b86bbf0b",
   "metadata": {},
   "outputs": [],
   "source": [
    "\"4H数据空值处理\"\n",
    "data_h4 = data_h4.dropna()\n",
    "data_h4[data_h4.isna().any(axis=1)]"
   ]
  },
  {
   "cell_type": "code",
   "execution_count": null,
   "id": "c768abac-0917-41f5-9b6d-2dc8ebbff6a9",
   "metadata": {},
   "outputs": [],
   "source": []
  },
  {
   "cell_type": "code",
   "execution_count": null,
   "id": "1ef0aa71-6c9c-4dc1-93c3-f0aeee8c9127",
   "metadata": {},
   "outputs": [],
   "source": []
  },
  {
   "cell_type": "markdown",
   "id": "18ac9ee9-d7e6-4e31-9f68-9f94cb8224ad",
   "metadata": {},
   "source": [
    "## 多周期匹配问题"
   ]
  },
  {
   "cell_type": "markdown",
   "id": "d24b8d05-bcd8-4212-9102-0b36b73fc88c",
   "metadata": {
    "tags": []
   },
   "source": [
    "### 最小周期为 `1M`, 从 `1M` 开始检查"
   ]
  },
  {
   "cell_type": "code",
   "execution_count": null,
   "id": "5b7f4def-be7f-4dfc-886a-557ab22c2c5c",
   "metadata": {},
   "outputs": [],
   "source": []
  },
  {
   "cell_type": "code",
   "execution_count": null,
   "id": "65a9233b-3217-4c07-a9b7-15943ac07ba8",
   "metadata": {},
   "outputs": [],
   "source": []
  },
  {
   "cell_type": "code",
   "execution_count": null,
   "id": "dfde00e9-33c3-45f9-8462-fe490101d26a",
   "metadata": {},
   "outputs": [],
   "source": []
  },
  {
   "cell_type": "code",
   "execution_count": null,
   "id": "ecb871a0-2b6c-4ff8-bd22-d9d0c8335a4b",
   "metadata": {},
   "outputs": [],
   "source": []
  },
  {
   "cell_type": "code",
   "execution_count": null,
   "id": "26f032d4-9b01-4ef0-8afd-d5d2440b53ab",
   "metadata": {},
   "outputs": [],
   "source": []
  },
  {
   "cell_type": "markdown",
   "id": "d7b87ec7-64d0-490e-84b9-b6c3fb17c79a",
   "metadata": {},
   "source": [
    "## dukascopy m1 resampling 和 m5, H1, H4 的数据不一致 (待检查)"
   ]
  },
  {
   "cell_type": "code",
   "execution_count": null,
   "id": "156073db-ff0f-4015-8344-60df73c4467c",
   "metadata": {},
   "outputs": [],
   "source": []
  },
  {
   "cell_type": "code",
   "execution_count": null,
   "id": "9263d1fd-fc2b-455e-80b7-4ac724b1015f",
   "metadata": {},
   "outputs": [],
   "source": []
  },
  {
   "cell_type": "markdown",
   "id": "78b0a281-60fe-4658-8646-be03d3eab191",
   "metadata": {},
   "source": [
    "# 保存数据"
   ]
  },
  {
   "cell_type": "code",
   "execution_count": null,
   "id": "e3d198b5-907a-4a21-a028-33c6ad90d59e",
   "metadata": {},
   "outputs": [],
   "source": [
    "data_m1.columns"
   ]
  },
  {
   "cell_type": "code",
   "execution_count": null,
   "id": "ba6b708b-91ea-4a77-9eba-0f814cab779b",
   "metadata": {},
   "outputs": [],
   "source": [
    "cleaned_hdf_m1_name = \"./data/EURUSD_M1_OHLCV_2021-01-01_2023-02-20_cleaned.h5\"\n",
    "cleaned_hdf_m5_name = \"./data/EURUSD_M5_OHLCV_2021-01-01_2023-02-20_cleaned.h5\"\n",
    "cleaned_hdf_h1_name = \"./data/EURUSD_H1_OHLCV_2021-01-01_2023-02-20_cleaned.h5\"\n",
    "cleaned_hdf_h4_name = \"./data/EURUSD_H4_OHLCV_2021-01-01_2023-02-20_cleaned.h5\"\n",
    "\n",
    "vbt.Data.from_data(data_m1).to_hdf(cleaned_hdf_m1_name, key=\"EURUSD_M1_Cleaned\")\n",
    "vbt.Data.from_data(data_m5).to_hdf(cleaned_hdf_m5_name, key=\"EURUSD_M5_Cleaned\")\n",
    "vbt.Data.from_data(data_h1).to_hdf(cleaned_hdf_h1_name, key=\"EURUSD_H1_Cleaned\")\n",
    "vbt.Data.from_data(data_h4).to_hdf(cleaned_hdf_h4_name, key=\"EURUSD_H4_Cleaned\")"
   ]
  },
  {
   "cell_type": "code",
   "execution_count": null,
   "id": "31acabc4-e2d5-4fbc-869d-4b173be912cb",
   "metadata": {},
   "outputs": [],
   "source": [
    "hdf_fname = \"./data/EURUSD_M1_OHLCV_2021-01-01_2023-02-20_cleaned.h5\"\n",
    "data = vbt.HDFData.fetch(hdf_fname)\n",
    "data.wrapper.index, data.wrapper.columns, data.symbols"
   ]
  },
  {
   "cell_type": "code",
   "execution_count": null,
   "id": "926aea2e-23c5-4cd7-9a07-3bd1f13029c8",
   "metadata": {},
   "outputs": [],
   "source": []
  }
 ],
 "metadata": {
  "kernelspec": {
   "display_name": "Python [conda env:vectorbt.pro]",
   "language": "python",
   "name": "conda-env-vectorbt.pro-py"
  },
  "language_info": {
   "codemirror_mode": {
    "name": "ipython",
    "version": 3
   },
   "file_extension": ".py",
   "mimetype": "text/x-python",
   "name": "python",
   "nbconvert_exporter": "python",
   "pygments_lexer": "ipython3",
   "version": "3.10.9"
  },
  "toc-autonumbering": true
 },
 "nbformat": 4,
 "nbformat_minor": 5
}
