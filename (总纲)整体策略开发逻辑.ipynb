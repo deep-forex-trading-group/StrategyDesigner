{
 "cells": [
  {
   "cell_type": "markdown",
   "id": "79a2c3ce-5425-42b3-8b31-de84efe48d76",
   "metadata": {},
   "source": [
    "# 整体流程梳理\n",
    "    \n",
    "\n",
    "* **整体流程**\n",
    "    * 说明\n",
    "        * 3-5 为单参数开发和评估流程, 6为整体参数组合评估\n",
    "    * [1. 数据下载](数据下载.ipynb)\n",
    "    * [2. 数据清洗(输出为 pd.DataFrame['Open', 'High', 'Low', 'Close', 'Volume'])](数据清洗.ipynb)\n",
    "    * [3. 指标开发(输出为 MultiIndex指标值)](指标开发.ipynb)\n",
    "    * [4. 策略开发(信号开发) (输出为entries和exits, 以及对应指标数据)](策略开发(信号开发).ipynb)\n",
    "    * [5. 策略回测及评估](策略回测及评估.ipynb)\n",
    "    * [6. 整体逻辑串联及参数优化(ALL_IN_ONE)](整体逻辑串联及参数优化(ALL_IN_ONE).ipynb)\n",
    "    * [7. MT5PyBot实盘接入](MT5PyBot实盘接入.ipynb)\n",
    "\n",
    "* **技术支持Tips**:\n",
    "    * [1. Chunk专题总结](Chunk专题总结.ipynb)"
   ]
  }
 ],
 "metadata": {
  "kernelspec": {
   "display_name": "Python [conda env:vectorbt.pro]",
   "language": "python",
   "name": "conda-env-vectorbt.pro-py"
  },
  "language_info": {
   "codemirror_mode": {
    "name": "ipython",
    "version": 3
   },
   "file_extension": ".py",
   "mimetype": "text/x-python",
   "name": "python",
   "nbconvert_exporter": "python",
   "pygments_lexer": "ipython3",
   "version": "3.10.9"
  }
 },
 "nbformat": 4,
 "nbformat_minor": 5
}
